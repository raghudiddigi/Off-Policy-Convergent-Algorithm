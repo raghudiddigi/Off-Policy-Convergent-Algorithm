{
 "cells": [
  {
   "cell_type": "code",
   "execution_count": 1,
   "metadata": {},
   "outputs": [
    {
     "name": "stdout",
     "output_type": "stream",
     "text": [
      "[1.31983664 1.3238124  1.32482438 1.32272899 1.3217551  1.32071311\n",
      " 9.21698466 0.40080464]\n"
     ]
    }
   ],
   "source": [
    "#Final version - Bairds \"7-star\" counter-example\n",
    "import numpy as np\n",
    "from scipy.linalg import eig \n",
    "import mdptoolbox, mdptoolbox.example\n",
    "import random\n",
    "from numpy.random import seed\n",
    "import time\n",
    "\n",
    "\n",
    "def get_next_state(state,action):\n",
    "    \n",
    "    if action == 0:\n",
    "        next_state = 6\n",
    "    else:\n",
    "        next_state = np.random.choice(6)\n",
    "    \n",
    "    return next_state\n",
    "    \n",
    "    \n",
    "def feature_state(thetha,state):\n",
    "    if state == 0:\n",
    "        return 2*thetha[0] + thetha[7]\n",
    "    if state == 1:\n",
    "        return 2*thetha[1]+thetha[7]\n",
    "    if state == 2:\n",
    "        return 2*thetha[2]+thetha[7]\n",
    "    if state == 3:\n",
    "        return 2*thetha[3]+thetha[7]\n",
    "    if state == 4:\n",
    "        return 2*thetha[4]+thetha[7]\n",
    "    if state == 5:\n",
    "        return 2*thetha[5]+thetha[7]\n",
    "    if state == 6:\n",
    "        return thetha[6] + 2*thetha[7]\n",
    "\n",
    "\n",
    "\n",
    "def grad_state(state):\n",
    "    if state == 0:\n",
    "        return np.array([2.0,0.0,0,0,0,0,0,1])\n",
    "    if state == 1:\n",
    "        return np.array([0.0,2.0,0,0,0,0,0,1])\n",
    "    if state == 2:\n",
    "        return np.array([0.0,0.0,2,0,0,0,0,1])\n",
    "    if state == 3:\n",
    "        return np.array([0.0,0.0,0,2,0,0,0,1])\n",
    "    if state == 4:\n",
    "        return np.array([0.0,0.0,0,0,2,0,0,1])\n",
    "    if state == 5:\n",
    "        return np.array([0.0,0.0,0,0,0,2,0,1])\n",
    "    if state == 6:\n",
    "        return np.array([0.0,0.0,0,0,0,0,1,2])\n",
    "    \n",
    "\n",
    "total_runs = 10\n",
    "total_iterations = 1000000\n",
    "\n",
    "\n",
    "\n",
    "alpha = 0.000001\n",
    "beta = 10*alpha\n",
    "\n",
    "error_storage_gtd = np.zeros((total_runs,total_iterations))\n",
    "\n",
    "\n",
    "for runs in range(total_runs):\n",
    "    \n",
    "    np.random.seed((runs+1)*100)\n",
    "    random.seed((runs+1)*110)\n",
    "    \n",
    "    opt = np.array([[0,0,0,0,0,0,0]])\n",
    "\n",
    "    \n",
    "    thetha = [1,1,1,1,1,1,10,1]\n",
    "    thetha_td = [1,1,1,1,1,1,10,1]\n",
    "    discount = 0.99\n",
    "    \n",
    "    \n",
    "    pi = np.array([[1,0],[1,0],[1,0],[1,0],[1,0],[1,0],[1,0]])\n",
    "    mu = np.array([[1/7,6/7],[1/7,6/7],[1/7,6/7],[1/7,6/7],[1/7,6/7],[1/7,6/7],[1/7,6/7]])\n",
    "        \n",
    "    d_mu = np.array([[1/7,1/7,1/7,1/7,1/7,1/7,1/7]])\n",
    "        \n",
    "    thetha_GTD = [1,1,1,1,1,1,10,1]\n",
    "    w = thetha_GTD\n",
    "    \n",
    "    state = np.random.choice(7)\n",
    "    for main_iter in range(total_iterations):\n",
    "        \n",
    "        action = np.random.choice(2,1,p=[1/7,6/7])[0]\n",
    "        importance_sampling = pi[state,action]    \n",
    "        next_state = get_next_state(state,action)\n",
    "\n",
    "\n",
    "        grad = grad_state(state)\n",
    "        \n",
    "        delta = 0 + discount*feature_state(thetha_GTD,next_state) - feature_state(thetha_GTD,state)\n",
    "        \n",
    "        #thetha_GTD = thetha_GTD + alpha*importance_sampling*feature_state(w,state)*(grad_state(state)- discount*grad_state(next_state))\n",
    "        thetha_GTD = thetha_GTD + alpha*importance_sampling*(delta*grad_state(state) - discount*feature_state(w,state)*grad_state(next_state))\n",
    "        w = w + beta*importance_sampling*(delta - feature_state(w,state))*grad_state(state)\n",
    "        \n",
    "        \n",
    "        state = next_state\n",
    "        \n",
    "        v_gtd = np.zeros((7,1))\n",
    "        \n",
    "        for i in range(7):\n",
    "            v_gtd[i,0] = feature_state(thetha_GTD,i)\n",
    "\n",
    "        \n",
    "        error_storage_gtd[runs,main_iter] = np.sqrt(np.sum(np.multiply(d_mu.T,np.square(opt.T - v_gtd))))\n",
    "        \n",
    "\n",
    "        \n",
    "print(thetha_GTD)\n",
    "\n"
   ]
  },
  {
   "cell_type": "code",
   "execution_count": 2,
   "metadata": {},
   "outputs": [],
   "source": [
    "#Be careful\n",
    "np.savetxt('Bairds-gtd-0.000001',np.average(error_storage_gtd,axis = 0))"
   ]
  },
  {
   "cell_type": "code",
   "execution_count": 3,
   "metadata": {},
   "outputs": [
    {
     "data": {
      "image/png": "[encoded data removed]",
      "text/plain": [
       "<Figure size 432x288 with 1 Axes>"
      ]
     },
     "metadata": {},
     "output_type": "display_data"
    }
   ],
   "source": [
    "import matplotlib.pyplot as plt\n",
    "plt.plot(np.average(error_storage_gtd,axis = 0), 'b',linewidth = 2, label = 'Perturbed OTD(0)')\n",
    "\n",
    "plt.ylim([-10,100])\n",
    "\n",
    "plt.legend(loc = 'best',prop={'size': 14})\n",
    "plt.xlabel('Number of iterations',fontsize = 15)\n",
    "plt.ylabel('RMSE',fontsize = 15)\n",
    "plt.show()"
   ]
  },
  {
   "cell_type": "code",
   "execution_count": null,
   "metadata": {},
   "outputs": [],
   "source": []
  }
 ],
 "metadata": {
  "kernelspec": {
   "display_name": "Python 3",
   "language": "python",
   "name": "python3"
  },
  "language_info": {
   "codemirror_mode": {
    "name": "ipython",
    "version": 3
   },
   "file_extension": ".py",
   "mimetype": "text/x-python",
   "name": "python",
   "nbconvert_exporter": "python",
   "pygments_lexer": "ipython3",
   "version": "3.6.5"
  }
 },
 "nbformat": 4,
 "nbformat_minor": 2
}
