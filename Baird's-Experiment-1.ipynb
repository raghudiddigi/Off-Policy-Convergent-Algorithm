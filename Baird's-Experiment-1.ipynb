{
 "cells": [
  {
   "cell_type": "code",
   "execution_count": 1,
   "metadata": {},
   "outputs": [],
   "source": [
    "import numpy as np\n",
    "from scipy.linalg import eig \n",
    "import mdptoolbox, mdptoolbox.example\n",
    "import random\n",
    "from numpy.random import seed\n",
    "import time\n",
    "\n",
    "\n",
    "def get_next_state(state,action):\n",
    "    if state == 0:\n",
    "        return state + action\n",
    "    if state == 1:\n",
    "        if action ==0:\n",
    "            return 0\n",
    "        else:\n",
    "            return 1\n",
    "\n",
    "def feature_state(thetha,state):\n",
    "    if state == 0:\n",
    "        return thetha\n",
    "    if state == 1:\n",
    "        return 2*thetha\n",
    "\n",
    "def grad_state(state):\n",
    "    if state == 0:\n",
    "        return 1\n",
    "    if state == 1:\n",
    "        return 2\n",
    "    \n",
    "total_runs = 10\n",
    "total_iterations = 10000\n",
    "\n",
    "error_storage_td = np.zeros((total_runs,total_iterations))\n",
    "error_storage_ptd = np.zeros((total_runs,total_iterations))\n",
    "error_storage_etd = np.zeros((total_runs,total_iterations))\n",
    "\n",
    "opt = np.array([[0,0]])\n",
    "\n",
    "for runs in range(total_runs):\n",
    "    \n",
    "    np.random.seed((runs+1)*100)\n",
    "    random.seed((runs+1)*110)\n",
    "    \n",
    "    pi = np.array([[0,1],[0,1]])\n",
    "    mu = np.array([[0.5,0.5],[0.5,0.5]])\n",
    "    d_mu = np.array([[0.5,0.5]])\n",
    "    thetha = 1\n",
    "    discount = 0.9\n",
    "    P_pi= np.array([[0,1],[0,1]])\n",
    "    eta = max(np.max(discount * np.dot(d_mu,P_pi)/d_mu) - 1, 0)\n",
    "    F=1\n",
    "    thetha_ETD = 1\n",
    "    thetha_td = 1\n",
    "    \n",
    "    state = 0\n",
    "\n",
    "    for main_iter in range(total_iterations):\n",
    "        action = np.random.choice(2,1,p=[0.5,0.5])[0]\n",
    "        importance_sampling = pi[state,action]/mu[state,action]     \n",
    "        next_state = get_next_state(state,action)\n",
    "        thetha = thetha + importance_sampling*0.01*(discount*feature_state(thetha,next_state) - (1+eta)*feature_state(thetha,state))*grad_state(state)\n",
    "        thetha_ETD = thetha_ETD + F*importance_sampling*0.01*(discount*feature_state(thetha_ETD,next_state) - feature_state(thetha_ETD,state))*grad_state(state)\n",
    "        thetha_td = thetha_td + importance_sampling*0.01*(discount*feature_state(thetha_td,next_state) - feature_state(thetha_td,state))*grad_state(state)\n",
    "        F = 1+ discount*importance_sampling*F \n",
    "        state = next_state\n",
    "        \n",
    "        v_ptd = np.zeros((2,1))\n",
    "        v_etd = np.zeros((2,1))\n",
    "        v_td =  np.zeros((2,1))\n",
    "        \n",
    "        for i in range(2):\n",
    "            v_ptd[i,0] = feature_state(thetha,i)\n",
    "            v_etd[i,0] = feature_state(thetha_ETD,i)\n",
    "            v_td[i,0] = feature_state(thetha_td,i)\n",
    "        \n",
    "        error_storage_ptd[runs,main_iter] = np.sqrt(np.sum(np.multiply(d_mu.T,np.square(opt.T - v_ptd))))\n",
    "        error_storage_etd[runs,main_iter] = np.sqrt(np.sum(np.multiply(d_mu.T,np.square(opt.T - v_etd))))\n",
    "        error_storage_td[runs,main_iter] = np.sqrt(np.sum(np.multiply(d_mu.T,np.square(opt.T - v_td))))\n",
    "\n",
    "#print(thetha,thetha_ETD)\n"
   ]
  },
  {
   "cell_type": "code",
   "execution_count": 2,
   "metadata": {},
   "outputs": [
    {
     "ename": "NameError",
     "evalue": "name 'np' is not defined",
     "output_type": "error",
     "traceback": [
      "\u001b[0;31m---------------------------------------------------------------------------\u001b[0m",
      "\u001b[0;31mNameError\u001b[0m                                 Traceback (most recent call last)",
      "\u001b[0;32m<ipython-input-2-a81d33634a3c>\u001b[0m in \u001b[0;36m<module>\u001b[0;34m()\u001b[0m\n\u001b[1;32m      1\u001b[0m \u001b[0;32mimport\u001b[0m \u001b[0mmatplotlib\u001b[0m\u001b[0;34m.\u001b[0m\u001b[0mpyplot\u001b[0m \u001b[0;32mas\u001b[0m \u001b[0mplt\u001b[0m\u001b[0;34m\u001b[0m\u001b[0m\n\u001b[0;32m----> 2\u001b[0;31m \u001b[0mplt\u001b[0m\u001b[0;34m.\u001b[0m\u001b[0mplot\u001b[0m\u001b[0;34m(\u001b[0m\u001b[0mnp\u001b[0m\u001b[0;34m.\u001b[0m\u001b[0maverage\u001b[0m\u001b[0;34m(\u001b[0m\u001b[0merror_storage_ptd\u001b[0m\u001b[0;34m,\u001b[0m\u001b[0maxis\u001b[0m \u001b[0;34m=\u001b[0m \u001b[0;36m0\u001b[0m\u001b[0;34m)\u001b[0m\u001b[0;34m,\u001b[0m \u001b[0;34m'b'\u001b[0m\u001b[0;34m,\u001b[0m\u001b[0mlinewidth\u001b[0m \u001b[0;34m=\u001b[0m \u001b[0;36m2\u001b[0m\u001b[0;34m,\u001b[0m \u001b[0mlabel\u001b[0m \u001b[0;34m=\u001b[0m \u001b[0;34m'Perturbed Off-policy TD(0)'\u001b[0m\u001b[0;34m)\u001b[0m\u001b[0;34m\u001b[0m\u001b[0m\n\u001b[0m\u001b[1;32m      3\u001b[0m \u001b[0;31m#plt.plot(np.average(error_storage_etd,axis = 0), 'r',linewidth = 2, label = 'Emphatic Off-policy TD(0)')\u001b[0m\u001b[0;34m\u001b[0m\u001b[0;34m\u001b[0m\u001b[0m\n\u001b[1;32m      4\u001b[0m \u001b[0mplt\u001b[0m\u001b[0;34m.\u001b[0m\u001b[0mplot\u001b[0m\u001b[0;34m(\u001b[0m\u001b[0mnp\u001b[0m\u001b[0;34m.\u001b[0m\u001b[0maverage\u001b[0m\u001b[0;34m(\u001b[0m\u001b[0merror_storage_td\u001b[0m\u001b[0;34m,\u001b[0m\u001b[0maxis\u001b[0m \u001b[0;34m=\u001b[0m \u001b[0;36m0\u001b[0m\u001b[0;34m)\u001b[0m\u001b[0;34m,\u001b[0m \u001b[0;34m'y'\u001b[0m\u001b[0;34m,\u001b[0m\u001b[0mlinewidth\u001b[0m \u001b[0;34m=\u001b[0m \u001b[0;36m2\u001b[0m\u001b[0;34m,\u001b[0m \u001b[0mlabel\u001b[0m \u001b[0;34m=\u001b[0m \u001b[0;34m'Standard Off-Policy TD(0)'\u001b[0m\u001b[0;34m)\u001b[0m\u001b[0;34m\u001b[0m\u001b[0m\n\u001b[1;32m      5\u001b[0m \u001b[0mplt\u001b[0m\u001b[0;34m.\u001b[0m\u001b[0mylim\u001b[0m\u001b[0;34m(\u001b[0m\u001b[0;34m[\u001b[0m\u001b[0;34m-\u001b[0m\u001b[0;36m1\u001b[0m\u001b[0;34m,\u001b[0m\u001b[0;36m10\u001b[0m\u001b[0;34m]\u001b[0m\u001b[0;34m)\u001b[0m\u001b[0;34m\u001b[0m\u001b[0m\n",
      "\u001b[0;31mNameError\u001b[0m: name 'np' is not defined"
     ]
    }
   ],
   "source": [
    "import matplotlib.pyplot as plt\n",
    "plt.plot(np.average(error_storage_ptd,axis = 0), 'b',linewidth = 2, label = 'Perturbed Off-policy TD(0)')\n",
    "#plt.plot(np.average(error_storage_etd,axis = 0), 'r',linewidth = 2, label = 'Emphatic Off-policy TD(0)')\n",
    "plt.plot(np.average(error_storage_td,axis = 0), 'y',linewidth = 2, label = 'Standard Off-Policy TD(0)')\n",
    "plt.ylim([-1,10])\n",
    "\n",
    "plt.legend(loc = 'upper right',prop={'size': 14})\n",
    "plt.xlabel('Number of iterations',fontsize = 15)\n",
    "plt.ylabel('RMSE',fontsize = 15)\n",
    "plt.show()"
   ]
  },
  {
   "cell_type": "code",
   "execution_count": 1,
   "metadata": {},
   "outputs": [
    {
     "ename": "NameError",
     "evalue": "name 'error_storage_ptd' is not defined",
     "output_type": "error",
     "traceback": [
      "\u001b[0;31m---------------------------------------------------------------------------\u001b[0m",
      "\u001b[0;31mNameError\u001b[0m                                 Traceback (most recent call last)",
      "\u001b[0;32m<ipython-input-1-aac046fe75ca>\u001b[0m in \u001b[0;36m<module>\u001b[0;34m()\u001b[0m\n\u001b[1;32m      1\u001b[0m \u001b[0;32mimport\u001b[0m \u001b[0mmatplotlib\u001b[0m\u001b[0;34m.\u001b[0m\u001b[0mpyplot\u001b[0m \u001b[0;32mas\u001b[0m \u001b[0mplt\u001b[0m\u001b[0;34m\u001b[0m\u001b[0m\n\u001b[1;32m      2\u001b[0m \u001b[0;32mfor\u001b[0m \u001b[0mi\u001b[0m \u001b[0;32min\u001b[0m \u001b[0mrange\u001b[0m\u001b[0;34m(\u001b[0m\u001b[0;36m50\u001b[0m\u001b[0;34m)\u001b[0m\u001b[0;34m:\u001b[0m\u001b[0;34m\u001b[0m\u001b[0m\n\u001b[0;32m----> 3\u001b[0;31m     \u001b[0mplt\u001b[0m\u001b[0;34m.\u001b[0m\u001b[0mplot\u001b[0m\u001b[0;34m(\u001b[0m\u001b[0merror_storage_ptd\u001b[0m\u001b[0;34m[\u001b[0m\u001b[0mi\u001b[0m\u001b[0;34m]\u001b[0m\u001b[0;34m,\u001b[0m\u001b[0;34m'c'\u001b[0m\u001b[0;34m,\u001b[0m\u001b[0mlinewidth\u001b[0m \u001b[0;34m=\u001b[0m \u001b[0;36m2\u001b[0m\u001b[0;34m)\u001b[0m\u001b[0;34m\u001b[0m\u001b[0m\n\u001b[0m\u001b[1;32m      4\u001b[0m \u001b[0mplt\u001b[0m\u001b[0;34m.\u001b[0m\u001b[0mplot\u001b[0m\u001b[0;34m(\u001b[0m\u001b[0mnp\u001b[0m\u001b[0;34m.\u001b[0m\u001b[0maverage\u001b[0m\u001b[0;34m(\u001b[0m\u001b[0merror_storage_ptd\u001b[0m\u001b[0;34m,\u001b[0m\u001b[0maxis\u001b[0m \u001b[0;34m=\u001b[0m \u001b[0;36m0\u001b[0m\u001b[0;34m)\u001b[0m\u001b[0;34m,\u001b[0m \u001b[0;34m'k'\u001b[0m\u001b[0;34m,\u001b[0m\u001b[0mlinewidth\u001b[0m \u001b[0;34m=\u001b[0m \u001b[0;36m2\u001b[0m\u001b[0;34m,\u001b[0m \u001b[0mlabel\u001b[0m \u001b[0;34m=\u001b[0m \u001b[0;34m'Average performance'\u001b[0m\u001b[0;34m)\u001b[0m\u001b[0;34m\u001b[0m\u001b[0m\n\u001b[1;32m      5\u001b[0m \u001b[0;34m\u001b[0m\u001b[0m\n",
      "\u001b[0;31mNameError\u001b[0m: name 'error_storage_ptd' is not defined"
     ]
    }
   ],
   "source": [
    "import matplotlib.pyplot as plt\n",
    "for i in range(50):\n",
    "    plt.plot(error_storage_ptd[i],'c',linewidth = 2)\n",
    "plt.plot(np.average(error_storage_ptd,axis = 0), 'k',linewidth = 2, label = 'Average performance')\n",
    "\n",
    "#plt.xlim([0,10])\n",
    "plt.ylim([-0.01,0.05])\n",
    "\n",
    "plt.legend(loc = 'upper right',prop={'size': 14})\n",
    "plt.xlabel('Number of iterations',fontsize = 15)\n",
    "plt.ylabel('RMSE',fontsize = 15)\n",
    "plt.show()"
   ]
  },
  {
   "cell_type": "code",
   "execution_count": null,
   "metadata": {},
   "outputs": [],
   "source": []
  }
 ],
 "metadata": {
  "kernelspec": {
   "display_name": "Python 3",
   "language": "python",
   "name": "python3"
  },
  "language_info": {
   "codemirror_mode": {
    "name": "ipython",
    "version": 3
   },
   "file_extension": ".py",
   "mimetype": "text/x-python",
   "name": "python",
   "nbconvert_exporter": "python",
   "pygments_lexer": "ipython3",
   "version": "3.6.5"
  }
 },
 "nbformat": 4,
 "nbformat_minor": 2
}
