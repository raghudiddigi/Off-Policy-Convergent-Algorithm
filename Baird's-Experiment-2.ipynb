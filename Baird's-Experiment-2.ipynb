{
 "cells": [
  {
   "cell_type": "code",
   "execution_count": 1,
   "metadata": {},
   "outputs": [
    {
     "name": "stdout",
     "output_type": "stream",
     "text": [
      "[ 1.69230769  1.69230769  1.69230769  1.69230769  1.69230769  1.69230769\n",
      "  6.76923077 -3.38461538] [124301.36762851  97116.9135131  105729.46972231 106221.17278454\n",
      " 135267.20277375 144625.91160799 170031.56795461 696672.1549243 ]\n"
     ]
    }
   ],
   "source": [
    "#Final version - Bairds \"7-star\" counter-example\n",
    "import numpy as np\n",
    "from scipy.linalg import eig \n",
    "import mdptoolbox, mdptoolbox.example\n",
    "import random\n",
    "from numpy.random import seed\n",
    "import time\n",
    "\n",
    "\n",
    "def get_next_state(state,action):\n",
    "    \n",
    "    if action == 0:\n",
    "        next_state = 6\n",
    "    else:\n",
    "        next_state = np.random.choice(6)\n",
    "    \n",
    "    return next_state\n",
    "    \n",
    "    \n",
    "def feature_state(thetha,state):\n",
    "    if state == 0:\n",
    "        return 2*thetha[0] + thetha[7]\n",
    "    if state == 1:\n",
    "        return 2*thetha[1]+thetha[7]\n",
    "    if state == 2:\n",
    "        return 2*thetha[2]+thetha[7]\n",
    "    if state == 3:\n",
    "        return 2*thetha[3]+thetha[7]\n",
    "    if state == 4:\n",
    "        return 2*thetha[4]+thetha[7]\n",
    "    if state == 5:\n",
    "        return 2*thetha[5]+thetha[7]\n",
    "    if state == 6:\n",
    "        return thetha[6] + 2*thetha[7]\n",
    "\n",
    "\n",
    "\n",
    "def grad_state(state):\n",
    "    if state == 0:\n",
    "        return np.array([2.0,0.0,0,0,0,0,0,1])\n",
    "    if state == 1:\n",
    "        return np.array([0.0,2.0,0,0,0,0,0,1])\n",
    "    if state == 2:\n",
    "        return np.array([0.0,0.0,2,0,0,0,0,1])\n",
    "    if state == 3:\n",
    "        return np.array([0.0,0.0,0,2,0,0,0,1])\n",
    "    if state == 4:\n",
    "        return np.array([0.0,0.0,0,0,2,0,0,1])\n",
    "    if state == 5:\n",
    "        return np.array([0.0,0.0,0,0,0,2,0,1])\n",
    "    if state == 6:\n",
    "        return np.array([0.0,0.0,0,0,0,0,1,2])\n",
    "    \n",
    "\n",
    "total_runs = 10\n",
    "total_iterations = 1000000\n",
    "\n",
    "step_size = 0.0001\n",
    "\n",
    "error_storage_td = np.zeros((total_runs,total_iterations))\n",
    "error_storage_ptd = np.zeros((total_runs,total_iterations))\n",
    "error_storage_etd = np.zeros((total_runs,total_iterations))\n",
    "\n",
    "\n",
    "for runs in range(total_runs):\n",
    "    \n",
    "    np.random.seed((runs+1)*100)\n",
    "    random.seed((runs+1)*110)\n",
    "    \n",
    "    opt = np.array([[0,0,0,0,0,0,0]])\n",
    "\n",
    "    \n",
    "    thetha = [1,1,1,1,1,1,10,1]\n",
    "    thetha_td = [1,1,1,1,1,1,10,1]\n",
    "    discount = 0.99\n",
    "    \n",
    "    \n",
    "    pi = np.array([[1,0],[1,0],[1,0],[1,0],[1,0],[1,0],[1,0]])\n",
    "    mu = np.array([[1/7,6/7],[1/7,6/7],[1/7,6/7],[1/7,6/7],[1/7,6/7],[1/7,6/7],[1/7,6/7]])\n",
    "        \n",
    "    d_mu = np.array([[1/7,1/7,1/7,1/7,1/7,1/7,1/7]])\n",
    "        \n",
    "    eta = 1\n",
    "    \n",
    "    F=1\n",
    "    thetha_ETD = [1,1,1,1,1,1,10,1]\n",
    "    state = np.random.choice(7)\n",
    "    for main_iter in range(total_iterations):\n",
    "        \n",
    "        action = np.random.choice(2,1,p=[1/7,6/7])[0]\n",
    "        importance_sampling = pi[state,action]/mu[state,action]     \n",
    "        next_state = get_next_state(state,action)\n",
    "\n",
    "\n",
    "        grad = grad_state(state)\n",
    "        \n",
    "        delta = 0 + discount*feature_state(thetha_ETD,next_state) - feature_state(thetha_ETD,state)\n",
    "        temp = F*importance_sampling*step_size*delta\n",
    "        thetha_ETD = thetha_ETD + temp*grad\n",
    "\n",
    "        delta = 0 + discount*feature_state(thetha,next_state) - (1+eta)*feature_state(thetha,state)\n",
    "        temp2 = importance_sampling*step_size*delta\n",
    "        thetha = thetha + temp2*grad\n",
    "        \n",
    "        delta = 0 + discount*feature_state(thetha_td,next_state) - feature_state(thetha_td,state)\n",
    "        temp3 = importance_sampling*step_size*delta\n",
    "        thetha_td = thetha_td + temp3*grad\n",
    "        \n",
    "\n",
    "        F = 1+ discount*importance_sampling*F \n",
    "        state = next_state\n",
    "        \n",
    "        v_ptd = np.zeros((7,1))\n",
    "        v_etd = np.zeros((7,1))\n",
    "        v_td =  np.zeros((7,1))\n",
    "        \n",
    "        for i in range(7):\n",
    "            v_ptd[i,0] = feature_state(thetha,i)\n",
    "            v_etd[i,0] = feature_state(thetha_ETD,i)\n",
    "            v_td[i,0] = feature_state(thetha_td,i)\n",
    "        \n",
    "        error_storage_ptd[runs,main_iter] = np.sqrt(np.sum(np.multiply(d_mu.T,np.square(opt.T - v_ptd))))\n",
    "        error_storage_etd[runs,main_iter] = np.sqrt(np.sum(np.multiply(d_mu.T,np.square(opt.T - v_etd))))\n",
    "        error_storage_td[runs,main_iter] = np.sqrt(np.sum(np.multiply(d_mu.T,np.square(opt.T - v_td))))\n",
    "        \n",
    "\n",
    "        \n",
    "print(thetha,thetha_ETD)\n",
    "\n"
   ]
  },
  {
   "cell_type": "code",
   "execution_count": 5,
   "metadata": {},
   "outputs": [],
   "source": [
    "#Be careful. uncomment.\n",
    "np.savetxt('Bairds-ptd-0.0001',np.average(error_storage_ptd,axis = 0))\n",
    "np.savetxt('Bairds-etd-0.0001',np.average(error_storage_etd,axis = 0))\n",
    "np.savetxt('Bairds-td-0.0001',np.average(error_storage_td,axis = 0))"
   ]
  },
  {
   "cell_type": "code",
   "execution_count": 7,
   "metadata": {},
   "outputs": [
    {
     "data": {
      "image/png": "[encoded data removed]",
      "text/plain": [
       "<Figure size 432x288 with 1 Axes>"
      ]
     },
     "metadata": {},
     "output_type": "display_data"
    }
   ],
   "source": [
    "import matplotlib.pyplot as plt\n",
    "for i in range(50):\n",
    "    plt.plot(error_storage_ptd[i],'c',)\n",
    "plt.plot(np.average(error_storage_ptd,axis = 0), 'k')\n",
    "plt.ylabel('some numbers')\n",
    "plt.show()"
   ]
  },
  {
   "cell_type": "code",
   "execution_count": 4,
   "metadata": {},
   "outputs": [
    {
     "data": {
      "image/png": "[encoded data removed]",
      "text/plain": [
       "<Figure size 432x288 with 1 Axes>"
      ]
     },
     "metadata": {},
     "output_type": "display_data"
    }
   ],
   "source": [
    "import matplotlib.pyplot as plt\n",
    "plt.plot(np.average(error_storage_ptd,axis = 0), 'b',linewidth = 2, label = 'Perturbed OTD(0)')\n",
    "plt.plot(np.average(error_storage_etd,axis = 0), 'r',linewidth = 2, label = 'Emphatic OTD(0)')\n",
    "plt.plot(np.average(error_storage_td,axis = 0), 'y',linewidth = 2, label = 'Standard OTD(0)')\n",
    "plt.ylim([-10,1000])\n",
    "\n",
    "plt.legend(loc = 'best',prop={'size': 14})\n",
    "plt.xlabel('Number of iterations',fontsize = 15)\n",
    "plt.ylabel('RMSE',fontsize = 15)\n",
    "plt.show()"
   ]
  },
  {
   "cell_type": "code",
   "execution_count": null,
   "metadata": {},
   "outputs": [],
   "source": [
    "[ 1.69230769  1.69230769  1.69230769  1.69230769  1.69230769  1.69230769\n",
    "  6.76923077 -3.38461538] [ 2.48767276  5.4755116   3.79845213  2.8853953   2.98696812  2.94870544\n",
    " 40.4051001  69.10155286]"
   ]
  }
 ],
 "metadata": {
  "kernelspec": {
   "display_name": "Python 3",
   "language": "python",
   "name": "python3"
  },
  "language_info": {
   "codemirror_mode": {
    "name": "ipython",
    "version": 3
   },
   "file_extension": ".py",
   "mimetype": "text/x-python",
   "name": "python",
   "nbconvert_exporter": "python",
   "pygments_lexer": "ipython3",
   "version": "3.6.5"
  }
 },
 "nbformat": 4,
 "nbformat_minor": 2
}
