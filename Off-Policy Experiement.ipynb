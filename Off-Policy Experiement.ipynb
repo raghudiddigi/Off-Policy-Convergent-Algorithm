{
 "cells": [
  {
   "cell_type": "code",
   "execution_count": 1,
   "metadata": {},
   "outputs": [
    {
     "name": "stdout",
     "output_type": "stream",
     "text": [
      "[4.20393505 4.19151887] [2.20086474 2.36131706] [26.72334543 26.60070107]\n"
     ]
    }
   ],
   "source": [
    "import numpy as np\n",
    "from scipy.linalg import eig \n",
    "import mdptoolbox, mdptoolbox.example\n",
    "import random\n",
    "from numpy.random import seed\n",
    "import time\n",
    "\n",
    "\n",
    "def get_next_state(state,action):\n",
    "    if state == 0:\n",
    "        if action == 0:\n",
    "            next_state = 0\n",
    "            reward = 1\n",
    "        else:\n",
    "            next_state = 1\n",
    "            reward = 1\n",
    "    if state == 1:\n",
    "        if action == 0:\n",
    "            next_state = 0\n",
    "            reward = 1\n",
    "        else:\n",
    "            next_state = 2\n",
    "            reward = 1\n",
    "    if state == 2:\n",
    "        if action == 0:\n",
    "            next_state = 1\n",
    "            reward = 1\n",
    "        else:\n",
    "            next_state = 2\n",
    "            reward = 1\n",
    "\n",
    "    return next_state, reward\n",
    "    \n",
    "    \n",
    "def feature_state(thetha,state):\n",
    "    if state == 0:\n",
    "        return thetha[0]\n",
    "    if state == 1:\n",
    "        return thetha[0]+ thetha[1]\n",
    "    if state == 2:\n",
    "        return thetha[1]\n",
    "    \n",
    "def grad_state(state):\n",
    "    if state == 0:\n",
    "        return [1,0]\n",
    "    if state == 1:\n",
    "        return [1,1]\n",
    "    if state == 2:\n",
    "        return [0,1]\n",
    "    \n",
    "\n",
    "total_runs = 10\n",
    "total_iterations = 1000000 #500000\n",
    "step_size = 0.00001\n",
    "\n",
    "error_storage_td = np.zeros((total_runs,total_iterations))\n",
    "error_storage_ptd = np.zeros((total_runs,total_iterations))\n",
    "error_storage_etd = np.zeros((total_runs,total_iterations))\n",
    "\n",
    "opt = np.array([[10,10,10]])\n",
    "\n",
    "for runs in range(total_runs):\n",
    "    \n",
    "    np.random.seed((runs+1)*100)\n",
    "    random.seed((runs+1)*110)\n",
    "\n",
    "    pi = np.array([[0,1],[0.5,0.5],[1,0]])\n",
    "    mu = np.array([[0.9,0.1],[0.5,0.5],[0.1,0.9]])\n",
    "    d_mu = np.array([[5/11,1/11,5/11]])\n",
    "    thetha = [0,0]\n",
    "    discount = 0.9\n",
    "    P_pi= np.array([[0,1,0],[0.5,0,0.5],[0,1,0]])\n",
    "\n",
    "    F=1\n",
    "    thetha_ETD = [0,0]\n",
    "    thetha_td = [0,0]\n",
    "\n",
    "    eta = 0.5\n",
    "    state = 0\n",
    "\n",
    "\n",
    "    for main_iter in range(total_iterations):\n",
    "\n",
    "        action = np.random.choice(2,1,p=mu[state])[0]\n",
    "        importance_sampling = pi[state,action]/mu[state,action]     \n",
    "        next_state,reward = get_next_state(state,action)\n",
    "\n",
    "        grad = grad_state(state)\n",
    "        delta = reward + discount*feature_state(thetha_ETD,next_state) - feature_state(thetha_ETD,state)\n",
    "        temp = F*importance_sampling*step_size*delta\n",
    "        thetha_ETD = thetha_ETD + np.multiply(temp,grad)\n",
    "\n",
    "        delta = reward + discount*feature_state(thetha,next_state) - (1+eta)*feature_state(thetha,state)\n",
    "        temp2 = importance_sampling*step_size*delta\n",
    "        thetha = thetha + np.multiply(temp2,grad)\n",
    "        \n",
    "        delta = reward + discount*feature_state(thetha_td,next_state) - feature_state(thetha_td,state)\n",
    "        temp3 = importance_sampling*step_size*delta\n",
    "        thetha_td = thetha_td + np.multiply(temp3,grad)\n",
    "\n",
    "        F = 1+ discount*importance_sampling*F \n",
    "        state = next_state\n",
    "        \n",
    "        v_etd = np.zeros((3,1))\n",
    "        v_ptd = np.zeros((3,1))\n",
    "        v_td  = np.zeros((3,1))\n",
    "\n",
    "        for i in range(3):\n",
    "            v_ptd[i,0] = feature_state(thetha,i)\n",
    "            v_etd[i,0] = feature_state(thetha_ETD,i)\n",
    "            v_td[i,0] = feature_state(thetha_td,i)\n",
    "            \n",
    "        error_storage_ptd[runs,main_iter] = np.sqrt(np.sum(np.multiply(d_mu.T,np.square(opt.T - v_ptd))))\n",
    "        error_storage_etd[runs,main_iter] = np.sqrt(np.sum(np.multiply(d_mu.T,np.square(opt.T - v_etd))))\n",
    "        error_storage_td[runs,main_iter] = np.sqrt(np.sum(np.multiply(d_mu.T,np.square(opt.T - v_td))))\n",
    "\n",
    "print(thetha,thetha_ETD,thetha_td)"
   ]
  },
  {
   "cell_type": "code",
   "execution_count": 6,
   "metadata": {},
   "outputs": [],
   "source": [
    "#Be careful. uncomment.\n",
    "np.savetxt('offexample-ptd-0.00001',np.average(error_storage_ptd,axis = 0))\n",
    "np.savetxt('offexample-etd-0.00001',np.average(error_storage_etd,axis = 0))\n",
    "np.savetxt('offexample-td-0.00001',np.average(error_storage_td,axis = 0))"
   ]
  },
  {
   "cell_type": "code",
   "execution_count": null,
   "metadata": {},
   "outputs": [],
   "source": [
    "[10.00352999  9.88307647] [2.55437024 1.77185827] [1016251.45227724  989046.27686614]"
   ]
  },
  {
   "cell_type": "code",
   "execution_count": 5,
   "metadata": {},
   "outputs": [
    {
     "data": {
      "image/png": "[encoded data removed]",
      "text/plain": [
       "<Figure size 432x288 with 1 Axes>"
      ]
     },
     "metadata": {},
     "output_type": "display_data"
    }
   ],
   "source": [
    "import matplotlib.pyplot as plt\n",
    "plt.plot(np.average(error_storage_ptd,axis = 0), 'b',linewidth = 2, label = 'Perturbed OTD(0)')\n",
    "plt.plot(np.average(error_storage_etd,axis = 0), 'r',linewidth = 2, label = 'Emphatic OTD(0)')\n",
    "plt.plot(np.average(error_storage_td,axis = 0), 'y',linewidth = 2, label = 'Standard OTD(0)')\n",
    "plt.ylim([0,20])\n",
    "\n",
    "plt.legend(loc = 'best',prop={'size': 14})\n",
    "plt.xlabel('Number of iterations',fontsize = 15)\n",
    "plt.ylabel('RMSE',fontsize = 15)\n",
    "plt.show()"
   ]
  },
  {
   "cell_type": "code",
   "execution_count": null,
   "metadata": {},
   "outputs": [],
   "source": [
    "import matplotlib.pyplot as plt\n",
    "for i in range(total_runs):\n",
    "    plt.plot(error_storage_ptd[i],'b')\n",
    "plt.plot(np.average(error_storage_ptd,axis = 0), 'r')\n",
    "plt.ylim([2,20])\n",
    "plt.ylabel('some numbers')\n",
    "plt.show()"
   ]
  },
  {
   "cell_type": "code",
   "execution_count": 12,
   "metadata": {},
   "outputs": [
    {
     "name": "stdout",
     "output_type": "stream",
     "text": [
      "[83.62480869 88.42678153] [4.48966411 4.72905872]\n"
     ]
    }
   ],
   "source": [
    "import numpy as np\n",
    "from scipy.linalg import eig \n",
    "import mdptoolbox, mdptoolbox.example\n",
    "import random\n",
    "from numpy.random import seed\n",
    "import time\n",
    "\n",
    "\n",
    "def get_next_state(state,action):\n",
    "    if state == 0:\n",
    "        if action == 0:\n",
    "            next_state = 0\n",
    "            reward = 1\n",
    "        else:\n",
    "            next_state = 1\n",
    "            reward = 1\n",
    "    if state == 1:\n",
    "        if action == 0:\n",
    "            next_state = 0\n",
    "            reward = 1\n",
    "        else:\n",
    "            next_state = 2\n",
    "            reward = 1\n",
    "    if state == 2:\n",
    "        if action == 0:\n",
    "            next_state = 1\n",
    "            reward = 1\n",
    "        else:\n",
    "            next_state = 2\n",
    "            reward = 1\n",
    "\n",
    "    return next_state, reward\n",
    "    \n",
    "    \n",
    "def feature_state(thetha,state):\n",
    "    if state == 0:\n",
    "        return thetha[0]\n",
    "    if state == 1:\n",
    "        return thetha[0]+ thetha[1]\n",
    "    if state == 2:\n",
    "        return thetha[1]\n",
    "    \n",
    "def grad_state(state):\n",
    "    if state == 0:\n",
    "        return [1,0]\n",
    "    if state == 1:\n",
    "        return [1,1]\n",
    "    if state == 2:\n",
    "        return [0,1]\n",
    "    \n",
    "\n",
    "total_runs = 10\n",
    "total_iterations = 100000 #500000\n",
    "\n",
    "\n",
    "error_storage_neg = np.zeros((total_runs,total_iterations))\n",
    "error_storage_pos = np.zeros((total_runs,total_iterations))\n",
    "\n",
    "opt = np.array([[10,10,10]])\n",
    "\n",
    "for runs in range(total_runs):\n",
    "    \n",
    "    np.random.seed((runs+1)*100)\n",
    "    random.seed((runs+1)*110)\n",
    "\n",
    "    pi = np.array([[0,1],[0.5,0.5],[1,0]])\n",
    "    mu = np.array([[0.9,0.1],[0.5,0.5],[0.1,0.9]])\n",
    "    d_mu = np.array([[5/11,1/11,5/11]])\n",
    "    thetha = [0,0]\n",
    "    discount = 0.9\n",
    "    P_pi= np.array([[0,1,0],[0.5,0,0.5],[0,1,0]])\n",
    "\n",
    "    F=1\n",
    "    thetha_td = [0,0]\n",
    "\n",
    "    state = 0\n",
    "\n",
    "\n",
    "    for main_iter in range(total_iterations):\n",
    "\n",
    "        action = np.random.choice(2,1,p=mu[state])[0]\n",
    "        importance_sampling = pi[state,action]/mu[state,action]     \n",
    "        next_state,reward = get_next_state(state,action)\n",
    "\n",
    "        grad = grad_state(state)\n",
    "        \n",
    "        delta = reward + discount*feature_state(thetha,next_state) - (1+0.4)*feature_state(thetha,state)\n",
    "        temp2 = importance_sampling*0.001*delta\n",
    "        thetha = thetha + np.multiply(temp2,grad)\n",
    "        \n",
    "        delta = reward + discount*feature_state(thetha_td,next_state) - (1+0.6)*feature_state(thetha_td,state)\n",
    "        temp3 = importance_sampling*0.001*delta\n",
    "        thetha_td = thetha_td + np.multiply(temp3,grad)\n",
    "\n",
    "        F = 1+ discount*importance_sampling*F \n",
    "        state = next_state\n",
    "        \n",
    "        v_ptd = np.zeros((3,1))\n",
    "        v_td  = np.zeros((3,1))\n",
    "\n",
    "        for i in range(3):\n",
    "            v_ptd[i,0] = feature_state(thetha,i)\n",
    "            v_td[i,0] = feature_state(thetha_td,i)\n",
    "            \n",
    "        error_storage_neg[runs,main_iter] = np.sqrt(np.sum(np.multiply(d_mu.T,np.square(opt.T - v_ptd))))\n",
    "        error_storage_pos[runs,main_iter] = np.sqrt(np.sum(np.multiply(d_mu.T,np.square(opt.T - v_td))))\n",
    "\n",
    "print(thetha,thetha_td)"
   ]
  },
  {
   "cell_type": "code",
   "execution_count": null,
   "metadata": {},
   "outputs": [],
   "source": [
    "[83.62480869 88.42678153] [4.48966411 4.72905872]"
   ]
  },
  {
   "cell_type": "code",
   "execution_count": 11,
   "metadata": {},
   "outputs": [
    {
     "data": {
      "image/png": "[encoded data removed]",
      "text/plain": [
       "<Figure size 432x288 with 1 Axes>"
      ]
     },
     "metadata": {},
     "output_type": "display_data"
    }
   ],
   "source": [
    "import matplotlib.pyplot as plt\n",
    "plt.plot(np.average(error_storage_neg,axis = 0), 'r',linewidth = 2, label = '$\\eta = 0.4$')\n",
    "plt.plot(np.average(error_storage_ptd[:,0:100000],axis = 0), 'b',linewidth = 2, label = '$\\eta = 0.5$')\n",
    "plt.plot(np.average(error_storage_pos,axis = 0), 'y',linewidth = 2, label = '$\\eta = 0.6$')\n",
    "plt.ylim([0,50])\n",
    "\n",
    "plt.legend(loc = 'upper right',prop={'size': 14})\n",
    "plt.xlabel('Number of iterations',fontsize = 15)\n",
    "plt.ylabel('RMSE',fontsize = 15)\n",
    "plt.show()\n"
   ]
  },
  {
   "cell_type": "code",
   "execution_count": 13,
   "metadata": {},
   "outputs": [
    {
     "data": {
      "text/plain": [
       "2.972469071012884"
      ]
     },
     "execution_count": 13,
     "metadata": {},
     "output_type": "execute_result"
    }
   ],
   "source": [
    "np.average(error_storage_ptd[:,500000-1],axis = 0)"
   ]
  },
  {
   "cell_type": "code",
   "execution_count": null,
   "metadata": {},
   "outputs": [],
   "source": []
  }
 ],
 "metadata": {
  "kernelspec": {
   "display_name": "Python 3",
   "language": "python",
   "name": "python3"
  },
  "language_info": {
   "codemirror_mode": {
    "name": "ipython",
    "version": 3
   },
   "file_extension": ".py",
   "mimetype": "text/x-python",
   "name": "python",
   "nbconvert_exporter": "python",
   "pygments_lexer": "ipython3",
   "version": "3.6.5"
  }
 },
 "nbformat": 4,
 "nbformat_minor": 2
}
