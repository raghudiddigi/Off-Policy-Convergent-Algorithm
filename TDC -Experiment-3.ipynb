{
 "cells": [
  {
   "cell_type": "code",
   "execution_count": 1,
   "metadata": {},
   "outputs": [
    {
     "name": "stdout",
     "output_type": "stream",
     "text": [
      "[0.05338082 0.05340675]\n"
     ]
    }
   ],
   "source": [
    "import numpy as np\n",
    "from scipy.linalg import eig \n",
    "import mdptoolbox, mdptoolbox.example\n",
    "import random\n",
    "from numpy.random import seed\n",
    "import time\n",
    "\n",
    "\n",
    "def get_next_state(state,action):\n",
    "    if state == 0:\n",
    "        if action == 0:\n",
    "            next_state = 0\n",
    "            reward = 1\n",
    "        else:\n",
    "            next_state = 1\n",
    "            reward = 1\n",
    "    if state == 1:\n",
    "        if action == 0:\n",
    "            next_state = 0\n",
    "            reward = 1\n",
    "        else:\n",
    "            next_state = 2\n",
    "            reward = 1\n",
    "    if state == 2:\n",
    "        if action == 0:\n",
    "            next_state = 1\n",
    "            reward = 1\n",
    "        else:\n",
    "            next_state = 2\n",
    "            reward = 1\n",
    "\n",
    "    return next_state, reward\n",
    "    \n",
    "    \n",
    "def feature_state(thetha,state):\n",
    "    if state == 0:\n",
    "        return thetha[0]\n",
    "    if state == 1:\n",
    "        return thetha[0]+ thetha[1]\n",
    "    if state == 2:\n",
    "        return thetha[1]\n",
    "    \n",
    "def grad_state(state):\n",
    "    if state == 0:\n",
    "        return np.array([1,0])\n",
    "    if state == 1:\n",
    "        return np.array([1,1])\n",
    "    if state == 2:\n",
    "        return np.array([0,1])\n",
    "    \n",
    "\n",
    "total_runs = 10\n",
    "total_iterations = 1000000 #500000\n",
    "\n",
    "alpha = 0.000001\n",
    "beta = 10*alpha\n",
    "\n",
    "error_storage_gtd = np.zeros((total_runs,total_iterations))\n",
    "\n",
    "\n",
    "opt = np.array([[10,10,10]])\n",
    "\n",
    "for runs in range(total_runs):\n",
    "    \n",
    "    np.random.seed((runs+1)*100)\n",
    "    random.seed((runs+1)*110)\n",
    "\n",
    "    pi = np.array([[0,1],[0.5,0.5],[1,0]])\n",
    "    mu = np.array([[0.9,0.1],[0.5,0.5],[0.1,0.9]])\n",
    "    d_mu = np.array([[5/11,1/11,5/11]])\n",
    "\n",
    "    discount = 0.9\n",
    "    P_pi= np.array([[0,1,0],[0.5,0,0.5],[0,1,0]])\n",
    "    \n",
    "    thetha_GTD = [0,0]\n",
    "    w = [0,0]\n",
    "        \n",
    "    state = 0\n",
    "\n",
    "\n",
    "    for main_iter in range(total_iterations):\n",
    "        \n",
    "        action = np.random.choice(2,1,p=mu[state])[0]\n",
    "        importance_sampling = pi[state,action]    \n",
    "        next_state,reward = get_next_state(state,action)\n",
    "\n",
    "\n",
    "        grad = grad_state(state)\n",
    "        \n",
    "        delta = reward + discount*feature_state(thetha_GTD,next_state) - feature_state(thetha_GTD,state)\n",
    "        \n",
    "        #thetha_GTD = thetha_GTD + alpha*importance_sampling*feature_state(w,state)*(grad_state(state)- discount*grad_state(next_state))\n",
    "        thetha_GTD = thetha_GTD + alpha*importance_sampling*(delta*grad_state(state) - discount*feature_state(w,state)*grad_state(next_state))\n",
    "        w = w + beta*importance_sampling*(delta - feature_state(w,state))*grad_state(state)\n",
    "        \n",
    "        \n",
    "        state = next_state\n",
    "        \n",
    "        v_gtd = np.zeros((3,1))\n",
    "        \n",
    "        for i in range(3):\n",
    "            v_gtd[i,0] = feature_state(thetha_GTD,i)\n",
    "\n",
    "        \n",
    "        error_storage_gtd[runs,main_iter] = np.sqrt(np.sum(np.multiply(d_mu.T,np.square(opt.T - v_gtd))))\n",
    "        \n",
    "\n",
    "    \n",
    "        \n",
    "print(thetha_GTD)"
   ]
  },
  {
   "cell_type": "code",
   "execution_count": 2,
   "metadata": {},
   "outputs": [],
   "source": [
    "#Be careful\n",
    "np.savetxt('offexample-gtd-0.000001',np.average(error_storage_gtd,axis = 0))"
   ]
  },
  {
   "cell_type": "code",
   "execution_count": 2,
   "metadata": {},
   "outputs": [
    {
     "data": {
      "text/plain": [
       "4.402615491230708"
      ]
     },
     "execution_count": 2,
     "metadata": {},
     "output_type": "execute_result"
    }
   ],
   "source": [
    "error_storage_gtd[runs,main_iter]"
   ]
  },
  {
   "cell_type": "code",
   "execution_count": 5,
   "metadata": {},
   "outputs": [
    {
     "data": {
      "text/plain": [
       "(1, 1)"
      ]
     },
     "execution_count": 5,
     "metadata": {},
     "output_type": "execute_result"
    }
   ],
   "source": [
    "next_state"
   ]
  },
  {
   "cell_type": "code",
   "execution_count": 14,
   "metadata": {},
   "outputs": [
    {
     "data": {
      "text/plain": [
       "[1, 0, 1, 0]"
      ]
     },
     "execution_count": 14,
     "metadata": {},
     "output_type": "execute_result"
    }
   ],
   "source": [
    "2*grad_state(state)"
   ]
  },
  {
   "cell_type": "code",
   "execution_count": 6,
   "metadata": {},
   "outputs": [
    {
     "data": {
      "image/png": "[encoded data removed]",
      "text/plain": [
       "<Figure size 432x288 with 1 Axes>"
      ]
     },
     "metadata": {},
     "output_type": "display_data"
    }
   ],
   "source": [
    "import matplotlib.pyplot as plt\n",
    "plt.plot(np.average(error_storage_gtd,axis = 0), 'b',linewidth = 2, label = 'Perturbed OTD(0)')\n",
    "\n",
    "plt.ylim([0,20])\n",
    "\n",
    "plt.legend(loc = 'best',prop={'size': 14})\n",
    "plt.xlabel('Number of iterations',fontsize = 15)\n",
    "plt.ylabel('RMSE',fontsize = 15)\n",
    "plt.show()"
   ]
  },
  {
   "cell_type": "code",
   "execution_count": 54,
   "metadata": {},
   "outputs": [
    {
     "name": "stdout",
     "output_type": "stream",
     "text": [
      "1\n"
     ]
    }
   ],
   "source": [
    "state = np.random.choice(3,1,p=d_mu[0])[0]\n",
    "print(state)\n"
   ]
  },
  {
   "cell_type": "code",
   "execution_count": null,
   "metadata": {},
   "outputs": [],
   "source": []
  }
 ],
 "metadata": {
  "kernelspec": {
   "display_name": "Python 3",
   "language": "python",
   "name": "python3"
  },
  "language_info": {
   "codemirror_mode": {
    "name": "ipython",
    "version": 3
   },
   "file_extension": ".py",
   "mimetype": "text/x-python",
   "name": "python",
   "nbconvert_exporter": "python",
   "pygments_lexer": "ipython3",
   "version": "3.6.5"
  }
 },
 "nbformat": 4,
 "nbformat_minor": 2
}
